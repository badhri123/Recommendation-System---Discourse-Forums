{
  "nbformat": 4,
  "nbformat_minor": 0,
  "metadata": {
    "colab": {
      "name": "Recommendation_Model.ipynb",
      "provenance": [],
      "collapsed_sections": [],
      "toc_visible": true
    },
    "kernelspec": {
      "name": "python3",
      "display_name": "Python 3"
    }
  },
  "cells": [
    {
      "cell_type": "markdown",
      "metadata": {
        "id": "Uz0GQruqbcB9",
        "colab_type": "text"
      },
      "source": [
        "## Installing required Packages"
      ]
    },
    {
      "cell_type": "code",
      "metadata": {
        "id": "4nW0lDR2xnJu",
        "colab_type": "code",
        "colab": {
          "base_uri": "https://localhost:8080/",
          "height": 802
        },
        "outputId": "bd904838-8bd5-4d72-d5a3-4b56a9838a3b"
      },
      "source": [
        "import pickle\n",
        "import json\n",
        "!pip install -U sentence-transformers\n",
        "import torch\n",
        "\n",
        "from sentence_transformers import SentenceTransformer\n",
        "model = SentenceTransformer('bert-base-nli-mean-tokens')"
      ],
      "execution_count": null,
      "outputs": [
        {
          "output_type": "stream",
          "text": [
            "Collecting sentence-transformers\n",
            "\u001b[?25l  Downloading https://files.pythonhosted.org/packages/b9/46/b7d6c37d92d1bd65319220beabe4df845434930e3f30e42d3cfaecb74dc4/sentence-transformers-0.2.6.1.tar.gz (55kB)\n",
            "\u001b[K     |████████████████████████████████| 61kB 2.9MB/s \n",
            "\u001b[?25hCollecting transformers>=2.8.0\n",
            "\u001b[?25l  Downloading https://files.pythonhosted.org/packages/48/35/ad2c5b1b8f99feaaf9d7cdadaeef261f098c6e1a6a2935d4d07662a6b780/transformers-2.11.0-py3-none-any.whl (674kB)\n",
            "\u001b[K     |████████████████████████████████| 675kB 11.6MB/s \n",
            "\u001b[?25hRequirement already satisfied, skipping upgrade: tqdm in /usr/local/lib/python3.6/dist-packages (from sentence-transformers) (4.41.1)\n",
            "Requirement already satisfied, skipping upgrade: torch>=1.0.1 in /usr/local/lib/python3.6/dist-packages (from sentence-transformers) (1.5.1+cu101)\n",
            "Requirement already satisfied, skipping upgrade: numpy in /usr/local/lib/python3.6/dist-packages (from sentence-transformers) (1.18.5)\n",
            "Requirement already satisfied, skipping upgrade: scikit-learn in /usr/local/lib/python3.6/dist-packages (from sentence-transformers) (0.22.2.post1)\n",
            "Requirement already satisfied, skipping upgrade: scipy in /usr/local/lib/python3.6/dist-packages (from sentence-transformers) (1.4.1)\n",
            "Requirement already satisfied, skipping upgrade: nltk in /usr/local/lib/python3.6/dist-packages (from sentence-transformers) (3.2.5)\n",
            "Requirement already satisfied, skipping upgrade: requests in /usr/local/lib/python3.6/dist-packages (from transformers>=2.8.0->sentence-transformers) (2.23.0)\n",
            "Requirement already satisfied, skipping upgrade: dataclasses; python_version < \"3.7\" in /usr/local/lib/python3.6/dist-packages (from transformers>=2.8.0->sentence-transformers) (0.7)\n",
            "Collecting sacremoses\n",
            "\u001b[?25l  Downloading https://files.pythonhosted.org/packages/7d/34/09d19aff26edcc8eb2a01bed8e98f13a1537005d31e95233fd48216eed10/sacremoses-0.0.43.tar.gz (883kB)\n",
            "\u001b[K     |████████████████████████████████| 890kB 42.2MB/s \n",
            "\u001b[?25hCollecting sentencepiece\n",
            "\u001b[?25l  Downloading https://files.pythonhosted.org/packages/d4/a4/d0a884c4300004a78cca907a6ff9a5e9fe4f090f5d95ab341c53d28cbc58/sentencepiece-0.1.91-cp36-cp36m-manylinux1_x86_64.whl (1.1MB)\n",
            "\u001b[K     |████████████████████████████████| 1.1MB 43.9MB/s \n",
            "\u001b[?25hRequirement already satisfied, skipping upgrade: regex!=2019.12.17 in /usr/local/lib/python3.6/dist-packages (from transformers>=2.8.0->sentence-transformers) (2019.12.20)\n",
            "Requirement already satisfied, skipping upgrade: filelock in /usr/local/lib/python3.6/dist-packages (from transformers>=2.8.0->sentence-transformers) (3.0.12)\n",
            "Collecting tokenizers==0.7.0\n",
            "\u001b[?25l  Downloading https://files.pythonhosted.org/packages/14/e5/a26eb4716523808bb0a799fcfdceb6ebf77a18169d9591b2f46a9adb87d9/tokenizers-0.7.0-cp36-cp36m-manylinux1_x86_64.whl (3.8MB)\n",
            "\u001b[K     |████████████████████████████████| 3.8MB 46.4MB/s \n",
            "\u001b[?25hRequirement already satisfied, skipping upgrade: packaging in /usr/local/lib/python3.6/dist-packages (from transformers>=2.8.0->sentence-transformers) (20.4)\n",
            "Requirement already satisfied, skipping upgrade: future in /usr/local/lib/python3.6/dist-packages (from torch>=1.0.1->sentence-transformers) (0.16.0)\n",
            "Requirement already satisfied, skipping upgrade: joblib>=0.11 in /usr/local/lib/python3.6/dist-packages (from scikit-learn->sentence-transformers) (0.15.1)\n",
            "Requirement already satisfied, skipping upgrade: six in /usr/local/lib/python3.6/dist-packages (from nltk->sentence-transformers) (1.12.0)\n",
            "Requirement already satisfied, skipping upgrade: certifi>=2017.4.17 in /usr/local/lib/python3.6/dist-packages (from requests->transformers>=2.8.0->sentence-transformers) (2020.6.20)\n",
            "Requirement already satisfied, skipping upgrade: idna<3,>=2.5 in /usr/local/lib/python3.6/dist-packages (from requests->transformers>=2.8.0->sentence-transformers) (2.9)\n",
            "Requirement already satisfied, skipping upgrade: chardet<4,>=3.0.2 in /usr/local/lib/python3.6/dist-packages (from requests->transformers>=2.8.0->sentence-transformers) (3.0.4)\n",
            "Requirement already satisfied, skipping upgrade: urllib3!=1.25.0,!=1.25.1,<1.26,>=1.21.1 in /usr/local/lib/python3.6/dist-packages (from requests->transformers>=2.8.0->sentence-transformers) (1.24.3)\n",
            "Requirement already satisfied, skipping upgrade: click in /usr/local/lib/python3.6/dist-packages (from sacremoses->transformers>=2.8.0->sentence-transformers) (7.1.2)\n",
            "Requirement already satisfied, skipping upgrade: pyparsing>=2.0.2 in /usr/local/lib/python3.6/dist-packages (from packaging->transformers>=2.8.0->sentence-transformers) (2.4.7)\n",
            "Building wheels for collected packages: sentence-transformers, sacremoses\n",
            "  Building wheel for sentence-transformers (setup.py) ... \u001b[?25l\u001b[?25hdone\n",
            "  Created wheel for sentence-transformers: filename=sentence_transformers-0.2.6.1-cp36-none-any.whl size=74031 sha256=2c0e8ac30577576959e9298e22d47c6f9896b63e372c8253def706b1f0191549\n",
            "  Stored in directory: /root/.cache/pip/wheels/d7/fa/17/2b081a8cd8b0a86753fb0e9826b3cc19f0207062c0b2da7008\n",
            "  Building wheel for sacremoses (setup.py) ... \u001b[?25l\u001b[?25hdone\n",
            "  Created wheel for sacremoses: filename=sacremoses-0.0.43-cp36-none-any.whl size=893260 sha256=681640ee3d135b1766fb160dc18e0b6b3dbfa94fbdab4fad9e9f1087bf3b5930\n",
            "  Stored in directory: /root/.cache/pip/wheels/29/3c/fd/7ce5c3f0666dab31a50123635e6fb5e19ceb42ce38d4e58f45\n",
            "Successfully built sentence-transformers sacremoses\n",
            "Installing collected packages: sacremoses, sentencepiece, tokenizers, transformers, sentence-transformers\n",
            "Successfully installed sacremoses-0.0.43 sentence-transformers-0.2.6.1 sentencepiece-0.1.91 tokenizers-0.7.0 transformers-2.11.0\n"
          ],
          "name": "stdout"
        }
      ]
    },
    {
      "cell_type": "markdown",
      "metadata": {
        "id": "x-BFMo0ObjaK",
        "colab_type": "text"
      },
      "source": [
        "## Loading & Processing pickle file"
      ]
    },
    {
      "cell_type": "code",
      "metadata": {
        "id": "1SwmP1MKx8m9",
        "colab_type": "code",
        "colab": {
          "base_uri": "https://localhost:8080/",
          "height": 34
        },
        "outputId": "c0068fc8-cb06-4873-8cb0-99b4efbabeef"
      },
      "source": [
        "# Enter your path of the pickle file\n",
        "\n",
        "path_to_text_pickle =  \"text_submissions.pickle\"\n",
        "\n",
        "text_submissions = pickle.load( open(path_to_text_pickle, \"rb\" ) )\n",
        "print(\"There are \",len(text_submissions),\" submissions\")\n",
        "\n",
        "# Appending the text submissions into a list\n",
        "\n",
        "text_data = []\n",
        "for i in text_submissions:\n",
        "  text_data.append(i[1])\n",
        "\n"
      ],
      "execution_count": null,
      "outputs": [
        {
          "output_type": "stream",
          "text": [
            "4894\n"
          ],
          "name": "stdout"
        }
      ]
    },
    {
      "cell_type": "code",
      "metadata": {
        "id": "irW2bmKCoWcM",
        "colab_type": "code",
        "colab": {}
      },
      "source": [
        "# Saving\n",
        "\n",
        "embeddings = model.encode(text_data)\n",
        "torch.save(embeddings, 'BERT_Embeddings.pt')\n",
        "\n",
        "# Loading\n",
        "\n",
        "#embeddings = torch.load('BERT_Embeddings.pt')\n"
      ],
      "execution_count": null,
      "outputs": []
    },
    {
      "cell_type": "markdown",
      "metadata": {
        "id": "kqHK6FgmVbZX",
        "colab_type": "text"
      },
      "source": [
        "##Evaluating Recommendations - Jaccard Distance"
      ]
    },
    {
      "cell_type": "code",
      "metadata": {
        "id": "4OpuFPVjQIf8",
        "colab_type": "code",
        "colab": {
          "base_uri": "https://localhost:8080/",
          "height": 170
        },
        "outputId": "5fd1cd59-eb16-498e-8582-56b352c684b0"
      },
      "source": [
        "!pip install nltk\n",
        "import nltk\n",
        "nltk.download('punkt')\n",
        "nltk.download('wordnet')\n",
        "nltk.download('averaged_perceptron_tagger')\n",
        "import nltk\n",
        "from nltk.stem import WordNetLemmatizer\n",
        "from nltk.corpus import wordnet\n",
        "\n",
        "lemmatizer = WordNetLemmatizer()\n",
        "\n",
        "# function to convert nltk tag to wordnet tag\n",
        "def nltk_tag_to_wordnet_tag(nltk_tag):\n",
        "    if nltk_tag.startswith('J'):\n",
        "        return wordnet.ADJ\n",
        "    elif nltk_tag.startswith('V'):\n",
        "        return wordnet.VERB\n",
        "    elif nltk_tag.startswith('N'):\n",
        "        return wordnet.NOUN\n",
        "    elif nltk_tag.startswith('R'):\n",
        "        return wordnet.ADV\n",
        "    else:          \n",
        "        return None\n",
        "\n",
        "def lemmatize_sentence(sentence):\n",
        "    #tokenize the sentence and find the POS tag for each token\n",
        "    nltk_tagged = nltk.pos_tag(nltk.word_tokenize(sentence))  \n",
        "    #tuple of (token, wordnet_tag)\n",
        "    wordnet_tagged = map(lambda x: (x[0], nltk_tag_to_wordnet_tag(x[1])), nltk_tagged)\n",
        "    lemmatized_sentence = []\n",
        "    for word, tag in wordnet_tagged:\n",
        "        if tag is None:\n",
        "            #if there is no available tag, append the token as is\n",
        "            lemmatized_sentence.append(word)\n",
        "        else:        \n",
        "            #else use the tag to lemmatize the token\n",
        "            lemmatized_sentence.append(lemmatizer.lemmatize(word, tag))\n",
        "    return \" \".join(lemmatized_sentence)"
      ],
      "execution_count": null,
      "outputs": [
        {
          "output_type": "stream",
          "text": [
            "Requirement already satisfied: nltk in /usr/local/lib/python3.6/dist-packages (3.2.5)\n",
            "Requirement already satisfied: six in /usr/local/lib/python3.6/dist-packages (from nltk) (1.12.0)\n",
            "[nltk_data] Downloading package punkt to /root/nltk_data...\n",
            "[nltk_data]   Unzipping tokenizers/punkt.zip.\n",
            "[nltk_data] Downloading package wordnet to /root/nltk_data...\n",
            "[nltk_data]   Unzipping corpora/wordnet.zip.\n",
            "[nltk_data] Downloading package averaged_perceptron_tagger to\n",
            "[nltk_data]     /root/nltk_data...\n",
            "[nltk_data]   Unzipping taggers/averaged_perceptron_tagger.zip.\n"
          ],
          "name": "stdout"
        }
      ]
    },
    {
      "cell_type": "code",
      "metadata": {
        "id": "DyLiW9iGQMEq",
        "colab_type": "code",
        "colab": {}
      },
      "source": [
        "def get_jaccard_sim(str1, str2): \n",
        "    a = set(str1.split()) \n",
        "    b = set(str2.split())\n",
        "    c = a.intersection(b)\n",
        "    return float(len(c)) / (len(a) + len(b) - len(c))\n",
        "\n",
        "def evaluate(list_recommendations,test_input):\n",
        "  # Finding Average Jaccard Distance\n",
        "  tot_jaccard = 0\n",
        "  num_recommendations = len(list_recommendations)\n",
        "  lem_input = lemmatize_sentence(test_input)\n",
        "  for recom in list_recommendations:\n",
        "    lem_topic = lemmatize_sentence(recom)\n",
        "    temp_jaccard = get_jaccard_sim(lem_input,lem_topic)\n",
        "    tot_jaccard+=temp_jaccard\n",
        "  avg_jaccard = tot_jaccard/num_recommendations\n",
        "  return avg_jaccard\n",
        "    \n",
        "\n",
        "   \n",
        "    \n",
        "  "
      ],
      "execution_count": null,
      "outputs": []
    },
    {
      "cell_type": "markdown",
      "metadata": {
        "id": "zeru-whf3JvJ",
        "colab_type": "text"
      },
      "source": [
        "## BERT Approach"
      ]
    },
    {
      "cell_type": "code",
      "metadata": {
        "id": "a-fGoPLJ0ISJ",
        "colab_type": "code",
        "colab": {}
      },
      "source": [
        "embeddings_tensor = torch.zeros(len(embeddings),len(embeddings[0]))\n",
        "k=0\n",
        "for li in embeddings:\n",
        "  embeddings_tensor[k] = torch.tensor(li).view(1,len(embeddings[0]))\n",
        "  k=k+1\n",
        "  "
      ],
      "execution_count": null,
      "outputs": []
    },
    {
      "cell_type": "code",
      "metadata": {
        "id": "LidsaejKNoVE",
        "colab_type": "code",
        "colab": {}
      },
      "source": [
        "import torch.nn as nn\n",
        "cosine_score_bert=torch.zeros(len(embeddings),len(embeddings))\n",
        "sort_score = torch.zeros(len(embeddings),10)\n",
        "index_score = torch.zeros(len(embeddings),10)\n",
        "\n",
        "for i in range(len(embeddings)):\n",
        "\n",
        "  input1 = embeddings_tensor[i].view(1,768)\n",
        "  input2 = embeddings_tensor\n",
        "  cos = nn.CosineSimilarity(dim=1, eps=1e-6)\n",
        "  output = cos(input1, input2)\n",
        "  # output = torch.cat([output[0:i], output[i+1:]])\n",
        "  cosine_score_bert[i] = output.view((1,len(embeddings)))\n",
        "\n",
        "\n",
        "  \n",
        "  \n",
        "\n"
      ],
      "execution_count": null,
      "outputs": []
    },
    {
      "cell_type": "code",
      "metadata": {
        "id": "hpLvS5NuR_up",
        "colab_type": "code",
        "colab": {}
      },
      "source": [
        "\n",
        "# print(\"Topic numbers range from 0 - 4893\\n\")\n",
        "def BERT_recommendation(topic_number):\n",
        "\n",
        "\n",
        "  #topic_number = 15\n",
        "  sor,ind = torch.sort(cosine_score_bert[topic_number],descending=True)\n",
        "  sor = sor[:10]\n",
        "  ind = ind[:10]\n",
        "  sort_score = sor.view(1,10)[0]\n",
        "  \n",
        "  index_score = ind.view(1,10)\n",
        "\n",
        "  temp_index = index_score[:5][0]\n",
        "  # print(temp_index)\n",
        "  print(\"Input is\\n\")\n",
        "  print(text_submissions[topic_number],\"\\n\\n\")\n",
        "  print(\"Displaying 10 - Recommended topics\\n\")\n",
        "  k=1\n",
        "  list_recom =[]\n",
        "  for i in range(len(temp_index)):\n",
        "    if i>0:\n",
        "\n",
        "\n",
        "      i = int(temp_index[i].item())\n",
        "      print(\"Recommendation -\",k)\n",
        "      print(\"Similarity is :\",sort_score[k],\"\\n\")\n",
        "      print(text_submissions[i],\"\\n\")\n",
        "      list_recom.append(text_data[i])\n",
        "      k=k+1\n",
        "  avg_jac = evaluate(list_recom,text_data[topic_number])\n",
        "\n",
        "  print(\"Average Jaccard Distance Between Input and Recommendations (BERT): \",avg_jac)    \n",
        "\n",
        "\n",
        "\n",
        "\n",
        "\n",
        "\n"
      ],
      "execution_count": null,
      "outputs": []
    },
    {
      "cell_type": "code",
      "metadata": {
        "id": "YQ7RW5IsT0CE",
        "colab_type": "code",
        "colab": {
          "base_uri": "https://localhost:8080/",
          "height": 972
        },
        "outputId": "bb82e1f1-7c61-4a35-af77-ec3538d53509"
      },
      "source": [
        "print(\"Enter a topic number from 0 - 4894\\n\")\n",
        "BERT_recommendation(21)"
      ],
      "execution_count": null,
      "outputs": [
        {
          "output_type": "stream",
          "text": [
            "Enter a topic number from 0 - 4894\n",
            "\n",
            "Input is\n",
            "\n",
            "['https://forum.gethopscotch.com//t/variables-not-setting-properly/55261', 'i need help with variables not setting to the correct value/being triggered by the wrong action if anyone would like to'] \n",
            "\n",
            "\n",
            "Displaying 10 - Recommended topics\n",
            "\n",
            "Recommendation - 1\n",
            "Similarity is : tensor(0.8140) \n",
            "\n",
            "['https://forum.gethopscotch.com//t/chocoraspberrys-test-topic/42186', 'I’m  testing making topics with this so please ignore this'] \n",
            "\n",
            "Recommendation - 2\n",
            "Similarity is : tensor(0.8048) \n",
            "\n",
            "['https://forum.gethopscotch.com//t/when-bumps-doesn-t-seem-to-work-closed/47478', 'I’m making a game, and “when bumps” doesn’t work for some reason.\\nHere are screenshots. When the  bumps zombear, zombear should Di.e .It doesn’t work for some reason.\\n'] \n",
            "\n",
            "Recommendation - 3\n",
            "Similarity is : tensor(0.8003) \n",
            "\n",
            "['https://forum.gethopscotch.com//t/is-this-a-bug-or-is-my-code-wrong/36162', 'Is this a bug, or is there something wrong with the code?The code looks like this:\\nThe two squares should be lined up but they are notIf there’s something wrong with the code then tell me what to do to make it work. If not then…I guess it’s a bug??'] \n",
            "\n",
            "Recommendation - 4\n",
            "Similarity is : tensor(0.7927) \n",
            "\n",
            "['https://forum.gethopscotch.com//t/tips-on-how-to-get-less-flags/11635', \"Well, people want to avoid getting flags.     This will be hard for new users, just so you know.       And sorry to use some people as an example, just please don't start a flame war.    That's a way to teach you the error of your ways.\"] \n",
            "\n",
            "Recommendation - 5\n",
            "Similarity is : tensor(0.7791) \n",
            "\n",
            "['https://forum.gethopscotch.com//t/all-the-abilities-get-deleted-open-low-priority/53707', 'I really don’t know how to explain this but it’s an odd bugThis bug occurs whenWhen you try adding an object, you’ll notice that all of the abilities have disappeared.  I think if this was done in earlier versions (deleting all objects) the project would just delete itself.Don’t follow the steps listed aboveJust a small bug, but worth mentioning'] \n",
            "\n",
            "Recommendation - 6\n",
            "Similarity is : tensor(0.7691) \n",
            "\n",
            "['https://forum.gethopscotch.com//t/nested-conditionals-dont-work-and-conditionals-inside-of-abilities-dont-work/47443', 'Continuing the discussion from Petrichor I (Am):\\nAnother thing I noticed is that putting a conditional inside of an ability makes any code after that conditional not work. I haven’t checked with code after the ability yet, though.Projects which use conditionals inside of conditionals don’t work. The code inside the second conditional doesn’t happen.steps to make the problem happenThis bug causes that code to not work.So this code:\\n'] \n",
            "\n",
            "Recommendation - 7\n",
            "Similarity is : tensor(0.7678) \n",
            "\n",
            "['https://forum.gethopscotch.com//t/replacing-bad-words/35380', 'I don\\'t know how the bad words filter works, but I have an idea (that I know someone\\'s going to be rude to me about, because that always happens). What if instead of blocking them, you change them to be nice? Like for example, \"you suck\" could be \"you rock\" or something like that. Some words, it\\'d also be good if you could just hide them like hidden text.Idk it\\'s stupid lovely'] \n",
            "\n",
            "Recommendation - 8\n",
            "Similarity is : tensor(0.7595) \n",
            "\n",
            "['https://forum.gethopscotch.com//t/comments/33470', \"I know this is really off topic but I was wondering .I don't know how to post a comment.Silly yeah I know.But I don't know where the button is!!!THX!\"] \n",
            "\n",
            "Recommendation - 9\n",
            "Similarity is : tensor(0.7573) \n",
            "\n",
            "['https://forum.gethopscotch.com//t/should-we-have-a-ignore-button-poll/2517', 'I really want a ignore button, it\\'s where if you go to someone\\'s account and press the \"ignore\" button, that means the person you ignored can\\'t remix your projects! It would put a stop to b-ullying. If you don\\'t agree press the no button and don\\'t reply why.0voters'] \n",
            "\n",
            "Average Jaccard Distance Between Input and Recommendations (BERT):  0.05401717803187509\n"
          ],
          "name": "stdout"
        }
      ]
    },
    {
      "cell_type": "markdown",
      "metadata": {
        "id": "tmwwQqkjkSBc",
        "colab_type": "text"
      },
      "source": [
        "## TF-IDF Approach"
      ]
    },
    {
      "cell_type": "code",
      "metadata": {
        "id": "qDKKGVzQkV92",
        "colab_type": "code",
        "colab": {
          "base_uri": "https://localhost:8080/",
          "height": 51
        },
        "outputId": "bca1eeaa-ece6-4807-b496-b3dada1b4f5e"
      },
      "source": [
        "from sklearn.feature_extraction.text import TfidfVectorizer\n",
        "tfidf = TfidfVectorizer().fit_transform(text_data)\n",
        "tfidf"
      ],
      "execution_count": null,
      "outputs": [
        {
          "output_type": "execute_result",
          "data": {
            "text/plain": [
              "<4894x19145 sparse matrix of type '<class 'numpy.float64'>'\n",
              "\twith 285174 stored elements in Compressed Sparse Row format>"
            ]
          },
          "metadata": {
            "tags": []
          },
          "execution_count": 12
        }
      ]
    },
    {
      "cell_type": "code",
      "metadata": {
        "id": "YxAcM8GhkiDd",
        "colab_type": "code",
        "colab": {}
      },
      "source": [
        "import numpy as np\n",
        "from sklearn.metrics.pairwise import linear_kernel\n",
        "cosine_score_tfidf = np.zeros((len(text_data),len(text_data)))\n",
        "for i in range(len(text_data)):\n",
        "\n",
        "  cosine_similarities = linear_kernel(tfidf[i:i+1], tfidf).flatten()\n",
        "  # print(cosine_similarities.reshape(1,len(text_data)).shape)\n",
        "  cosine_score_tfidf[i] = cosine_similarities\n",
        "\n",
        "cosine_score_tfidf = torch.from_numpy(cosine_score_tfidf)  \n",
        "#cosine_similarities"
      ],
      "execution_count": null,
      "outputs": []
    },
    {
      "cell_type": "code",
      "metadata": {
        "id": "7vYKR2VCk0uK",
        "colab_type": "code",
        "colab": {}
      },
      "source": [
        "\n",
        "# print(\"Topic numbers range from 0 - 4893\\n\")\n",
        "def TFIDF_recommendation(topic_number):\n",
        "\n",
        "\n",
        "  #topic_number = 15\n",
        "  sor,ind = torch.sort(cosine_score_tfidf[topic_number],descending=True)\n",
        "  sor = sor[:10]\n",
        "  ind = ind[:10]\n",
        "  sort_score = sor.view(1,10)[0]\n",
        "  \n",
        "  index_score = ind.view(1,10)\n",
        "\n",
        "  temp_index = index_score[:5][0]\n",
        "  # print(temp_index)\n",
        "  print(\"Input is\\n\")\n",
        "  print(text_submissions[topic_number],\"\\n\\n\")\n",
        "  print(\"Displaying 10 - Recommended topics\\n\")\n",
        "  k=1\n",
        "  list_recom = []\n",
        "  for i in range(len(temp_index)):\n",
        "    if i>0:\n",
        "\n",
        "\n",
        "      i = int(temp_index[i].item())\n",
        "      print(\"Recommendation -\",k)\n",
        "      print(\"Similarity is :\",sort_score[k],\"\\n\")\n",
        "      print(text_submissions[i],\"\\n\")\n",
        "      list_recom.append(text_data[i])\n",
        "      k=k+1\n",
        "  avg_jac = evaluate(list_recom,text_data[topic_number])\n",
        "\n",
        "  print(\"Average Jaccard Distance Between Input and Recommendations (TF-IDF) : \",avg_jac)\n",
        "\n",
        "\n",
        "\n",
        "\n",
        "\n",
        "\n"
      ],
      "execution_count": null,
      "outputs": []
    },
    {
      "cell_type": "code",
      "metadata": {
        "id": "ENmUejYy1a_5",
        "colab_type": "code",
        "colab": {
          "base_uri": "https://localhost:8080/",
          "height": 972
        },
        "outputId": "b0e972b8-793e-4fbe-9c7f-b8cf998297f1"
      },
      "source": [
        "print(\"Enter a topic number from 0 - 4894\\n\")\n",
        "TFIDF_recommendation(21)"
      ],
      "execution_count": null,
      "outputs": [
        {
          "output_type": "stream",
          "text": [
            "Enter a topic number from 0 - 4894\n",
            "\n",
            "Input is\n",
            "\n",
            "['https://forum.gethopscotch.com//t/variables-not-setting-properly/55261', 'i need help with variables not setting to the correct value/being triggered by the wrong action if anyone would like to'] \n",
            "\n",
            "\n",
            "Displaying 10 - Recommended topics\n",
            "\n",
            "Recommendation - 1\n",
            "Similarity is : tensor(0.2447, dtype=torch.float64) \n",
            "\n",
            "['https://forum.gethopscotch.com//t/how-to-do-basic-variables-hwc-topic-remake/34959', 'Once again, this is from November and hasn’t been read. NOTE: I will go through and add to this. I need to update the images and include self.#Hi, I’m @TheMasterOfAirjitzu.\\n##I am going to teach you some cool things to do with variables.Variables are numbers you can change in projects using these blocks:Now, I will show you the default values and what they do.###Default Values\\nBoth characters and the device have values. Default values are changed by thing in game, not blocks.Those are the device’s default values.####Width\\nWidth is the width of the screen. In landscape, it is 1024, and in portrait it is 768.####Height\\nHeight is the height of the screen. In landscape it is 768 and in portrait, 1024.\\nUseful for making backgrounds####Tilt up %\\nThis is how tilted up the iPad is.####Tilt down %\\nThis is how tilted down the iPad is.####Tilt left %\\nThis is how tilted left the iPad is.\\nThis is good for making driving games.####Tilt right %\\nThis is how tilted right the iPad is.\\nGood for making driving games####Last touch X\\nThis is the location of the last touch on X.\\nEssential to drawing tools####Last touch Y\\nThis is the location of the last touch on Y\\nEssential to drawing toolsSo that’s all the default iPad values, but characters have them too.####Rotation\\nThis is the object’s angle from the bottom of device in degrees. Edited by the set angle and turn blocks.\\nClones have this to themselves####X Position\\nThis is the object’s Location on X, edited by move forward, change X, and set position blocks.\\nUseful for making backgrounds\\nClones have this to themselves####Y Position\\nThis is the object’s Location on Y, edited by move forward, change Y, and set position blocks.\\nClones have this to themselves####Invisibility as a %\\nThe object’s invisibility, edited by the set invisibility block.\\nClones have this to themselves####Size as a %\\nThe object’s size, edited by the set size, grow by, and shrink by blocks.\\nClones have this to themselves####Speed\\nThe object’s speed, edited by set speed blocks.\\nDoesn’t effect set position\\nClones have this to themselvesYou may have noticed a new value button. This creates values.###Creating values####1.\\nSelect the device to make a value.####2.\\nTap “new value”####3.\\nName your value.Values you created can be changed by any value block, no matter what. Let’s look at the value blocks again:I will now teach you set value:###Set ValueWith set value, you can set any value (besides the default ones) to whatever you like. The first bubble is for the value being set. The second is for what it’s being set to. A number, a math problem, even another value!Set value can be used for high scores, levels, even websites and iPads! (Although the last two are easier thanks to the new “when” blocks)####Setting values to other values\\nSetting values to other values works like this: it gets set to the second value at the time of the set value block. Example:You may think 1 will = 1, but because 2 hasn’t changed yet, it’ll = 0.Ah! Now that you have a basic understanding of set value, we will learn the next value block!\\nLet’s see what it is:Oh, increase value! You’ll love this if you’re into making timer based games, scores, and more!Increase value is simple and useful, once you understand it.####Bringing values up\\nTo bring a value up, put the value you wish to increase in the first bubble, and what you are adding to it in the second. Using values for two bubbles is very similar to set value.####Bringing down a value\\nTo bring down a value, simply use a negative number.##That’s it!\\nI hope you enjoyed and learned a valuable lesson. I spent a while on this and it’s my second “how to” this week.I have more \"how to\"s\\nMake a Shop\\nMake “And” “Or” “When Blocks”\\n“Clean up” Code'] \n",
            "\n",
            "Recommendation - 2\n",
            "Similarity is : tensor(0.2391, dtype=torch.float64) \n",
            "\n",
            "['https://forum.gethopscotch.com//t/how-to-make-clones-do-something-individually/38723', 'So I’m trying to have a project where the clones will do the same thing, individually, after on another. So if you try to put “if self index = #” then only one will do the action. And if you don’t put anything, every clone will do the action at the same time. Help.'] \n",
            "\n",
            "Recommendation - 3\n",
            "Similarity is : tensor(0.2257, dtype=torch.float64) \n",
            "\n",
            "['https://forum.gethopscotch.com//t/how-to-learn-basic-values/27435', '#Hi, I’m @Petrichor.\\n##I am going to teach you some cool things to do with values.Values are numbers you can change in projects using these blocks:\\n￼Now, I will show you the default values and what they do.###Default Values\\nBoth characters and the device have values. Default values are changed by thing in game, not blocks.\\n￼\\n￼\\nThose are the device’s default values.####Width\\nWidth is the width of the screen. In landscape, it is 1024, and in portrait it is 768.####Height\\nHeight is the height of the screen. In landscape it is 768 and in portrait, 1024.\\nUseful for making backgrounds####Tilt up %\\nThis is how tilted up the iPad is.####Tilt down %\\nThis is how tilted down the iPad is.####Tilt left %\\nThis is how tilted left the iPad is.\\nThis is good for making driving games.####Tilt right %\\nThis is how tilted right the iPad is.\\nGood for making driving games####Last touch X\\nThis is the location of the last touch on X.\\nEssential to drawing tools####Last touch Y\\nThis is the location of the last touch on Y\\nEssential to drawing toolsSo that’s all the default iPad values, but characters have them too.￼####Rotation\\nThis is the object’s angle from the bottom of device in degrees. Edited by the set angle and turn blocks.\\nClones have this to themselves####X Position\\nThis is the object’s Location on X, edited by move forward, change X, and set position blocks.\\nUseful for making backgrounds\\nClones have this to themselves####Y Position\\nThis is the object’s Location on Y, edited by move forward, change Y, and set position blocks.\\nClones have this to themselves####Invisibility as a %\\nThe object’s invisibility, edited by the set invisibility block.\\nClones have this to themselves####Size as a %\\nThe object’s size, edited by the set size, grow by, and shrink by blocks.\\nClones have this to themselves####Speed\\nThe object’s speed, edited by set speed blocks.\\nDoesn’t effect set position\\nClones have this to themselvesYou may have noticed a new value button. This creates values.###Creating values####1.\\nSelect any object, or even the device to make a value.####2.\\nTap “new value”####3.\\nName your value.Values you created can be changed by any value block, no matter what. Let’s look at the value blocks again:\\n￼\\nI will now teach you set value:###Set ValueWith set value, you can set any value (besides the default ones) to whatever you like. The first bubble is for the value being set. The second is for what it’s being set to. A number, a math problem, even another value!Set value can be used for high scores, levels, even websites and iPads! (Although the last two are easier thanks to the new “when” blocks)####Setting values to other values\\nSetting values to other values works like this: it gets set to the second value at the time of the set value block. Example:\\n￼Ah! Now that you have a basic understanding of set value, we will learn the next value block!\\nLet’s see what it is:\\n￼\\nOh, increase value! You’ll love this if you’re into making timer based games, scores, and more!Increase value is simple and useful, once you understand it.####Bringing values up\\nTo bring a value up, put the value you wish to increase in the first bubble, and what you are adding to it in the second. Using values for two bubbles is very similar to set value.####Bringing down a value\\nTo bring down a value, simply use a negative number.##That’s it!\\nI hope you enjoyed and learned a valuable lesson. I spent a while on this and it’s my second “how to” this week.I have more \"how to\"s\\nMake a Shop\\nMake “And” “Or” “When Blocks”\\n“Clean up” Code\\nBasic Values\\nBold Text'] \n",
            "\n",
            "Recommendation - 4\n",
            "Similarity is : tensor(0.2183, dtype=torch.float64) \n",
            "\n",
            "['https://forum.gethopscotch.com//t/save-block-for-values/54911', 'I’d like to see a Save block on Hopscotch. It’s a block for the Valuables section.\\nI’d also like a clear value block. Basically, it will clear the value’s data (not turning it back to 0), and if you play the project again, the value will not be like what it was before.(too lazy to make another image)'] \n",
            "\n",
            "Recommendation - 5\n",
            "Similarity is : tensor(0.2102, dtype=torch.float64) \n",
            "\n",
            "['https://forum.gethopscotch.com//t/feature-view-all-variables-while-project-is-running/41837', 'One particular coding feature in all programming languages is the ability to view your variables while a project is running.Lets say I have a variable called, “Count” and every time I tapped the screen, “count” was increased by 1Instead of coding a new block to show the value of “Count” it would be amazing to pull up a little side bar while the project is running which shows the list of all variables and what value they are at.This is just one example, if you have multiple variables running at once, having a feature like this would be incredible. Then you can keep track of all your variables while running your project. When programming complex projects, a feature like this would be key.Thanks! \\n0\\nvoters\\n@Liza @AwesomeOnion @Rodrigo @OMTLThis is my 100th topic! Cool!'] \n",
            "\n",
            "Recommendation - 6\n",
            "Similarity is : tensor(0.2079, dtype=torch.float64) \n",
            "\n",
            "['https://forum.gethopscotch.com//t/how-do-i-fix-this/33065', 'So I need help\\n'] \n",
            "\n",
            "Recommendation - 7\n",
            "Similarity is : tensor(0.2014, dtype=torch.float64) \n",
            "\n",
            "['https://forum.gethopscotch.com//t/good-news-about-help-with-code-i-think-p/34739', \"Liza has said in a post that topics in Help With Code will not be deleted, instead they'll stay there but you won't be able to add any new topics to the category. She mentioned nothing about the deletion of Help With Code topics  @Liza, correct me if I'm wrong, that's just how I understood the post :D\"] \n",
            "\n",
            "Recommendation - 8\n",
            "Similarity is : tensor(0.2009, dtype=torch.float64) \n",
            "\n",
            "['https://forum.gethopscotch.com//t/i-created-a-flame-war-to-ella-13-part-2/27990', \"It's correct. The title says it all.The original post\"] \n",
            "\n",
            "Recommendation - 9\n",
            "Similarity is : tensor(0.1983, dtype=torch.float64) \n",
            "\n",
            "['https://forum.gethopscotch.com//t/help-making-an-object-appear-when-a-value-is-greater-than-or-equal-to-100/46122', 'I’m trying to get a object to appear when a certain value gets to, let’s say for example, 100, but whenever I try, it only will appear IF the value is 100 and not above. So if I have 101 it won’t appear. If anyone could help, I would appreciate it'] \n",
            "\n",
            "Average Jaccard Distance Between Input and Recommendations (TF-IDF) :  0.0706860976888177\n"
          ],
          "name": "stdout"
        }
      ]
    },
    {
      "cell_type": "markdown",
      "metadata": {
        "id": "ddn1cXyF3Xh5",
        "colab_type": "text"
      },
      "source": [
        "## Combination of BERT & TF-IDF"
      ]
    },
    {
      "cell_type": "code",
      "metadata": {
        "id": "lE-QkxK716mY",
        "colab_type": "code",
        "colab": {}
      },
      "source": [
        "\n",
        "# print(\"Topic numbers range from 0 - 4893\\n\")\n",
        "def Both_recommendation(topic_number,w1,w2):\n",
        "\n",
        "\n",
        "  #topic_number = 15\n",
        "\n",
        "  sor,ind = torch.sort(w1*cosine_score_bert[topic_number]+w2*cosine_score_tfidf[topic_number],descending=True)\n",
        "  sor = sor[:10]\n",
        "  ind = ind[:10]\n",
        "  sort_score = sor.view(1,10)[0]\n",
        "  \n",
        "  index_score = ind.view(1,10)\n",
        "\n",
        "  temp_index = index_score[:5][0]\n",
        "  # print(temp_index)\n",
        "  print(\"Input is\\n\")\n",
        "  print(text_submissions[topic_number],\"\\n\\n\")\n",
        "  print(\"Displaying 10 - Recommended topics\\n\")\n",
        "  k=1\n",
        "  list_recom = []\n",
        "  for i in range(len(temp_index)):\n",
        "    if i>0:\n",
        "\n",
        "      \n",
        "      i = int(temp_index[i].item())\n",
        "      print(\"Recommendation -\",k)\n",
        "      print(\"Similarity is :\",sort_score[k],\"\\n\")\n",
        "      print(text_submissions[i],\"\\n\")\n",
        "      list_recom.append(text_data[i])\n",
        "      k=k+1\n",
        "  avg_jac = evaluate(list_recom,text_data[topic_number])\n",
        "  print(\"Average Jaccard Distance Between Input and Recommendations (Both): \",avg_jac)\n",
        "      \n",
        "\n",
        "\n",
        "\n",
        "\n",
        "\n",
        "\n",
        "\n",
        "\n",
        "\n"
      ],
      "execution_count": null,
      "outputs": []
    },
    {
      "cell_type": "code",
      "metadata": {
        "id": "x2GITLu32m6i",
        "colab_type": "code",
        "colab": {
          "base_uri": "https://localhost:8080/",
          "height": 972
        },
        "outputId": "571ccffa-ccb7-4667-b951-d8361a21670c"
      },
      "source": [
        "print(\"Enter a topic number from 0 - 4894\\n\")\n",
        "w_bert = 0.5\n",
        "w_tfidf = 0.5 \n",
        "Both_recommendation(21,w_bert,w_tfidf)"
      ],
      "execution_count": null,
      "outputs": [
        {
          "output_type": "stream",
          "text": [
            "Enter a topic number from 0 - 4894\n",
            "\n",
            "Input is\n",
            "\n",
            "['https://forum.gethopscotch.com//t/variables-not-setting-properly/55261', 'i need help with variables not setting to the correct value/being triggered by the wrong action if anyone would like to'] \n",
            "\n",
            "\n",
            "Displaying 10 - Recommended topics\n",
            "\n",
            "Recommendation - 1\n",
            "Similarity is : tensor(0.4883, dtype=torch.float64) \n",
            "\n",
            "['https://forum.gethopscotch.com//t/is-this-a-bug-or-is-my-code-wrong/36162', 'Is this a bug, or is there something wrong with the code?The code looks like this:\\nThe two squares should be lined up but they are notIf there’s something wrong with the code then tell me what to do to make it work. If not then…I guess it’s a bug??'] \n",
            "\n",
            "Recommendation - 2\n",
            "Similarity is : tensor(0.4231, dtype=torch.float64) \n",
            "\n",
            "['https://forum.gethopscotch.com//t/custom-rules-sometimes-change-behaviour-of-when-blocks/46696', '(NOTE: I don’t know that much about this glitch yet, but I will be editing (or maybe replying to) this topic if I find more information.)I recently found a bug in Hopscotch which causes custom rules to make things inside certain rules (rules inside the custom rule, that is) always happen, ignoring the “When __ happens”. (That probably didn’t make sense, so I’ll give an example: Say you have a custom rule that includes a “When (value 1) > 10, increase (value 2) by 1”. This bug would cause value 2 to be continuously increased by 1 (even if value 1 isn’t more than 10.))Anyway, here’s what I’ve figured out so far:If anyone has more information on this bug, it would probably be helpful to share it in a reply.'] \n",
            "\n",
            "Recommendation - 3\n",
            "Similarity is : tensor(0.4204, dtype=torch.float64) \n",
            "\n",
            "['https://forum.gethopscotch.com//t/um-i-cant-see-the-drawing-topic/35435', \"When I click on my notification for it, I can't see it....  I need help\"] \n",
            "\n",
            "Recommendation - 4\n",
            "Similarity is : tensor(0.4202, dtype=torch.float64) \n",
            "\n",
            "['https://forum.gethopscotch.com//t/need-help-with-when-it-s-touching/41445', 'So I’m trying to make a thing but I need something to set a variable to something when it’s touching something and to change the variable when it’s not and idk how to do this'] \n",
            "\n",
            "Recommendation - 5\n",
            "Similarity is : tensor(0.4198, dtype=torch.float64) \n",
            "\n",
            "['https://forum.gethopscotch.com//t/chocoraspberrys-test-topic/42186', 'I’m  testing making topics with this so please ignore this'] \n",
            "\n",
            "Recommendation - 6\n",
            "Similarity is : tensor(0.4192, dtype=torch.float64) \n",
            "\n",
            "['https://forum.gethopscotch.com//t/could-we-make-another-forum/40478', 'Hey so could we make a another forum\\nLike swears are still blocked, no personal info and u have to be respectful but ur allowed to be off topicSo this forum would just be  to talk and get to know other forumersTell me what u think but don’t get all TRIGGERED pls@OMTL'] \n",
            "\n",
            "Recommendation - 7\n",
            "Similarity is : tensor(0.4167, dtype=torch.float64) \n",
            "\n",
            "['https://forum.gethopscotch.com//t/do-i-have-to-be-a-regular-to-make-a-group/36271', \"I really need to make a group for something and I don't know how if anyone wants to help out please  do does anyone know how?@OMTL\"] \n",
            "\n",
            "Recommendation - 8\n",
            "Similarity is : tensor(0.4137, dtype=torch.float64) \n",
            "\n",
            "['https://forum.gethopscotch.com//t/i-want-to-find-a-coding-partner/36678', \"I know I'm really bad at coding but i want someone to help me. If anyone wants we can start a coding group? Please help!\"] \n",
            "\n",
            "Recommendation - 9\n",
            "Similarity is : tensor(0.4136, dtype=torch.float64) \n",
            "\n",
            "['https://forum.gethopscotch.com//t/save-block-for-values/54911', 'I’d like to see a Save block on Hopscotch. It’s a block for the Valuables section.\\nI’d also like a clear value block. Basically, it will clear the value’s data (not turning it back to 0), and if you play the project again, the value will not be like what it was before.(too lazy to make another image)'] \n",
            "\n",
            "Average Jaccard Distance Between Input and Recommendations (Both):  0.08510363223006902\n"
          ],
          "name": "stdout"
        }
      ]
    }
  ]
}